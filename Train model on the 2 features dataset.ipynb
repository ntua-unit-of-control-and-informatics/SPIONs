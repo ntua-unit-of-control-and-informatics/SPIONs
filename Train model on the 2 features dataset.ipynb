{
 "cells": [
  {
   "cell_type": "markdown",
   "metadata": {},
   "source": [
    "### Import the Libraries and load the Dataset"
   ]
  },
  {
   "cell_type": "code",
   "execution_count": 1,
   "metadata": {
    "scrolled": true
   },
   "outputs": [
    {
     "data": {
      "text/html": [
       "<div>\n",
       "<style scoped>\n",
       "    .dataframe tbody tr th:only-of-type {\n",
       "        vertical-align: middle;\n",
       "    }\n",
       "\n",
       "    .dataframe tbody tr th {\n",
       "        vertical-align: top;\n",
       "    }\n",
       "\n",
       "    .dataframe thead th {\n",
       "        text-align: right;\n",
       "    }\n",
       "</style>\n",
       "<table border=\"1\" class=\"dataframe\">\n",
       "  <thead>\n",
       "    <tr style=\"text-align: right;\">\n",
       "      <th></th>\n",
       "      <th>Magnetic core</th>\n",
       "      <th>Overall size (nm)</th>\n",
       "      <th>B0 (T)</th>\n",
       "      <th>Fe/cell (pg)</th>\n",
       "      <th>relaxivity</th>\n",
       "      <th>target</th>\n",
       "    </tr>\n",
       "  </thead>\n",
       "  <tbody>\n",
       "    <tr>\n",
       "      <th>0</th>\n",
       "      <td>1.0</td>\n",
       "      <td>0.087838</td>\n",
       "      <td>0.157734</td>\n",
       "      <td>0.042805</td>\n",
       "      <td>0.524878</td>\n",
       "      <td>0</td>\n",
       "    </tr>\n",
       "    <tr>\n",
       "      <th>1</th>\n",
       "      <td>1.0</td>\n",
       "      <td>0.054054</td>\n",
       "      <td>0.647779</td>\n",
       "      <td>0.018636</td>\n",
       "      <td>1.000000</td>\n",
       "      <td>1</td>\n",
       "    </tr>\n",
       "    <tr>\n",
       "      <th>2</th>\n",
       "      <td>1.0</td>\n",
       "      <td>0.000000</td>\n",
       "      <td>0.647779</td>\n",
       "      <td>0.013008</td>\n",
       "      <td>0.923333</td>\n",
       "      <td>1</td>\n",
       "    </tr>\n",
       "    <tr>\n",
       "      <th>3</th>\n",
       "      <td>1.0</td>\n",
       "      <td>0.054054</td>\n",
       "      <td>0.647779</td>\n",
       "      <td>0.015341</td>\n",
       "      <td>0.890750</td>\n",
       "      <td>1</td>\n",
       "    </tr>\n",
       "    <tr>\n",
       "      <th>4</th>\n",
       "      <td>1.0</td>\n",
       "      <td>0.054054</td>\n",
       "      <td>0.647779</td>\n",
       "      <td>0.014449</td>\n",
       "      <td>0.118335</td>\n",
       "      <td>1</td>\n",
       "    </tr>\n",
       "  </tbody>\n",
       "</table>\n",
       "</div>"
      ],
      "text/plain": [
       "   Magnetic core  Overall size (nm)    B0 (T)  Fe/cell (pg)  relaxivity  \\\n",
       "0            1.0           0.087838  0.157734      0.042805    0.524878   \n",
       "1            1.0           0.054054  0.647779      0.018636    1.000000   \n",
       "2            1.0           0.000000  0.647779      0.013008    0.923333   \n",
       "3            1.0           0.054054  0.647779      0.015341    0.890750   \n",
       "4            1.0           0.054054  0.647779      0.014449    0.118335   \n",
       "\n",
       "   target  \n",
       "0       0  \n",
       "1       1  \n",
       "2       1  \n",
       "3       1  \n",
       "4       1  "
      ]
     },
     "execution_count": 1,
     "metadata": {},
     "output_type": "execute_result"
    }
   ],
   "source": [
    "import matplotlib.pyplot as plt\n",
    "import pandas as pd\n",
    "import numpy as np\n",
    "%matplotlib inline\n",
    "\n",
    "df = pd.read_csv('scaled_df.csv')\n",
    "df.head()"
   ]
  },
  {
   "cell_type": "markdown",
   "metadata": {},
   "source": [
    "### Drop the not important columns and Train-Test Split"
   ]
  },
  {
   "cell_type": "code",
   "execution_count": 2,
   "metadata": {},
   "outputs": [
    {
     "data": {
      "text/html": [
       "<div>\n",
       "<style scoped>\n",
       "    .dataframe tbody tr th:only-of-type {\n",
       "        vertical-align: middle;\n",
       "    }\n",
       "\n",
       "    .dataframe tbody tr th {\n",
       "        vertical-align: top;\n",
       "    }\n",
       "\n",
       "    .dataframe thead th {\n",
       "        text-align: right;\n",
       "    }\n",
       "</style>\n",
       "<table border=\"1\" class=\"dataframe\">\n",
       "  <thead>\n",
       "    <tr style=\"text-align: right;\">\n",
       "      <th></th>\n",
       "      <th>Magnetic core</th>\n",
       "      <th>Overall size (nm)</th>\n",
       "      <th>target</th>\n",
       "    </tr>\n",
       "  </thead>\n",
       "  <tbody>\n",
       "    <tr>\n",
       "      <th>0</th>\n",
       "      <td>1.0</td>\n",
       "      <td>0.087838</td>\n",
       "      <td>0</td>\n",
       "    </tr>\n",
       "    <tr>\n",
       "      <th>1</th>\n",
       "      <td>1.0</td>\n",
       "      <td>0.054054</td>\n",
       "      <td>1</td>\n",
       "    </tr>\n",
       "    <tr>\n",
       "      <th>2</th>\n",
       "      <td>1.0</td>\n",
       "      <td>0.000000</td>\n",
       "      <td>1</td>\n",
       "    </tr>\n",
       "    <tr>\n",
       "      <th>3</th>\n",
       "      <td>1.0</td>\n",
       "      <td>0.054054</td>\n",
       "      <td>1</td>\n",
       "    </tr>\n",
       "    <tr>\n",
       "      <th>4</th>\n",
       "      <td>1.0</td>\n",
       "      <td>0.054054</td>\n",
       "      <td>1</td>\n",
       "    </tr>\n",
       "  </tbody>\n",
       "</table>\n",
       "</div>"
      ],
      "text/plain": [
       "   Magnetic core  Overall size (nm)  target\n",
       "0            1.0           0.087838       0\n",
       "1            1.0           0.054054       1\n",
       "2            1.0           0.000000       1\n",
       "3            1.0           0.054054       1\n",
       "4            1.0           0.054054       1"
      ]
     },
     "execution_count": 2,
     "metadata": {},
     "output_type": "execute_result"
    }
   ],
   "source": [
    "df.drop('relaxivity', axis=1, inplace=True)\n",
    "df.drop('B0 (T)', axis=1, inplace=True)\n",
    "df.drop('Fe/cell (pg)', axis=1, inplace=True)\n",
    "df.head()"
   ]
  },
  {
   "cell_type": "code",
   "execution_count": 3,
   "metadata": {},
   "outputs": [],
   "source": [
    "from Kennard_Stone import kennardstonealgorithm"
   ]
  },
  {
   "cell_type": "code",
   "execution_count": 4,
   "metadata": {},
   "outputs": [],
   "source": [
    "train, test, train_labels, test_labels = kennardstonealgorithm(df,'target',5)"
   ]
  },
  {
   "cell_type": "code",
   "execution_count": 5,
   "metadata": {},
   "outputs": [
    {
     "name": "stdout",
     "output_type": "stream",
     "text": [
      "The names of the testing samples are:\n",
      "=====================================\n",
      "Fe2O3-PLL\n",
      "PDMAAm-coated-Fe2O3\n",
      "iron oxide-loaded cationic nanovesicle\n",
      "CMCS-SPIONs\n",
      "Citrate SPION\n"
     ]
    }
   ],
   "source": [
    "name_file = open('names.txt','r') \n",
    "names = name_file.readlines()\n",
    "print('The names of the testing samples are:')\n",
    "print('=====================================')\n",
    "for i in test.index:\n",
    "    print(names[i][:-1])"
   ]
  },
  {
   "cell_type": "markdown",
   "metadata": {},
   "source": [
    "### TPOT"
   ]
  },
  {
   "cell_type": "markdown",
   "metadata": {},
   "source": [
    "Import the TPOTClassifier module and silence the warnings."
   ]
  },
  {
   "cell_type": "code",
   "execution_count": 6,
   "metadata": {},
   "outputs": [],
   "source": [
    "import warnings\n",
    "warnings.filterwarnings(\"ignore\")"
   ]
  },
  {
   "cell_type": "code",
   "execution_count": 7,
   "metadata": {},
   "outputs": [],
   "source": [
    "warnings.filterwarnings(\"ignore\")"
   ]
  },
  {
   "cell_type": "code",
   "execution_count": 8,
   "metadata": {},
   "outputs": [],
   "source": [
    "from tpot import TPOTClassifier"
   ]
  },
  {
   "cell_type": "markdown",
   "metadata": {},
   "source": [
    "Run TPOT for 10 minutes with 5 individuals in each population, using all available cores in CPU, using a 3-fold cross validation to test the pipeline.\n",
    "\n",
    "Note: Any reproduce of this step might lead to different results, as Genetic algorithms as TPOT can have differrent results in each run"
   ]
  },
  {
   "cell_type": "code",
   "execution_count": 9,
   "metadata": {
    "scrolled": true
   },
   "outputs": [
    {
     "name": "stderr",
     "output_type": "stream",
     "text": [
      "c:\\users\\user\\desktop\\test-jupyter\\lib\\importlib\\_bootstrap.py:219: ImportWarning: can't resolve package from __spec__ or __package__, falling back on __name__ and __path__\n",
      "  return f(*args, **kwds)\n"
     ]
    },
    {
     "name": "stdout",
     "output_type": "stream",
     "text": [
      "1.0\n"
     ]
    }
   ],
   "source": [
    "tpot = TPOTClassifier(verbosity=0, max_time_mins=10, population_size=5,scoring='accuracy', n_jobs=-1, cv=3)\n",
    "tpot.fit(train, train_labels)\n",
    "print(tpot.score(test, test_labels))"
   ]
  },
  {
   "cell_type": "code",
   "execution_count": 10,
   "metadata": {},
   "outputs": [],
   "source": [
    "tpot.export('SPIONs_pipeline_2_features.py')"
   ]
  },
  {
   "cell_type": "markdown",
   "metadata": {},
   "source": [
    "Train and test the extracted model."
   ]
  },
  {
   "cell_type": "code",
   "execution_count": 11,
   "metadata": {},
   "outputs": [],
   "source": [
    "from sklearn.linear_model import LogisticRegression\n",
    "\n",
    "exported_pipeline = LogisticRegression(C=40.0, dual=False, penalty=\"l1\", random_state=42)\n",
    "\n",
    "exported_pipeline.fit(train, train_labels);"
   ]
  },
  {
   "cell_type": "code",
   "execution_count": 12,
   "metadata": {},
   "outputs": [
    {
     "name": "stdout",
     "output_type": "stream",
     "text": [
      "-----------------------------------------------------------------\n",
      "  Sample                                    Prob(0)    Prob(1)\n",
      "-----------------------------------------------------------------\n",
      "Fe2O3-PLL                                [0.52044763 0.47955237]\n",
      "uncoated                                 [0.28284178 0.71715822]\n",
      "D-mannose-coated Fe2O3                   [0.07242643 0.92757357]\n",
      "Fe2O3-PLL                                [0.28284178 0.71715822]\n",
      "PDMAAm-coated-Fe2O3                      [0.28284178 0.71715822]\n",
      "N-dodecyl-PEI2k/SPIO                     [9.99995428e-01 4.57245898e-06]\n",
      "iron oxide-loaded cationic nanovesicle   [1.0000000e+00 1.9104662e-14]\n",
      "iron oxide-loaded cationic nanovesicle   [1.0000000e+00 1.9104662e-14]\n",
      "CMCS-SPIONs                              [9.99996032e-01 3.96829860e-06]\n",
      "ED-Pullulan coating SPIO                 [9.99999998e-01 1.60250096e-09]\n",
      "IONP-6PEG-HA                             [9.99999925e-01 7.50456296e-08]\n",
      "PDMAAm-coated-Fe2O3NPs                   [9.99997227e-01 2.77284753e-06]\n",
      "Citrate SPION                            [9.99999996e-01 3.50798961e-09]\n",
      "D-mannose coated SPIONs                  [0.14928693 0.85071307]\n",
      "SPIO@SiO2-NH2                            [0.94989884 0.05010116]\n",
      "TAT-CLIO                                 [9.99999454e-01 5.45714528e-07]\n"
     ]
    }
   ],
   "source": [
    "print('-----------------------------------------------------------------')\n",
    "print('  Sample                                    Prob(0)    Prob(1)')\n",
    "print('-----------------------------------------------------------------')\n",
    "for i in range(len(df)):\n",
    "    print('{:40} {}'.format(names[i][:-1],exported_pipeline.predict_proba(df.drop('target',axis=1))[i]));"
   ]
  },
  {
   "cell_type": "code",
   "execution_count": 13,
   "metadata": {},
   "outputs": [],
   "source": [
    "test_preds = exported_pipeline.predict(test)"
   ]
  },
  {
   "cell_type": "code",
   "execution_count": 14,
   "metadata": {},
   "outputs": [],
   "source": [
    "train_preds = exported_pipeline.predict(train)"
   ]
  },
  {
   "cell_type": "markdown",
   "metadata": {},
   "source": [
    "#### Metrics on the Test Set "
   ]
  },
  {
   "cell_type": "code",
   "execution_count": 15,
   "metadata": {},
   "outputs": [],
   "source": [
    "from sklearn.metrics import accuracy_score, classification_report, confusion_matrix"
   ]
  },
  {
   "cell_type": "code",
   "execution_count": 16,
   "metadata": {},
   "outputs": [
    {
     "name": "stdout",
     "output_type": "stream",
     "text": [
      "              precision    recall  f1-score   support\n",
      "\n",
      "           0       1.00      1.00      1.00         3\n",
      "           1       1.00      1.00      1.00         2\n",
      "\n",
      "   micro avg       1.00      1.00      1.00         5\n",
      "   macro avg       1.00      1.00      1.00         5\n",
      "weighted avg       1.00      1.00      1.00         5\n",
      "\n"
     ]
    }
   ],
   "source": [
    "print(classification_report(test_labels,test_preds))"
   ]
  },
  {
   "cell_type": "code",
   "execution_count": 17,
   "metadata": {},
   "outputs": [
    {
     "name": "stdout",
     "output_type": "stream",
     "text": [
      "[[3 0]\n",
      " [0 2]]\n"
     ]
    }
   ],
   "source": [
    "print(confusion_matrix(test_labels,test_preds))"
   ]
  },
  {
   "cell_type": "markdown",
   "metadata": {},
   "source": [
    "#### Metrics on the Train Set "
   ]
  },
  {
   "cell_type": "code",
   "execution_count": 18,
   "metadata": {},
   "outputs": [
    {
     "name": "stdout",
     "output_type": "stream",
     "text": [
      "1.0\n"
     ]
    }
   ],
   "source": [
    "print(accuracy_score(test_labels,test_preds))"
   ]
  },
  {
   "cell_type": "code",
   "execution_count": 19,
   "metadata": {},
   "outputs": [
    {
     "name": "stdout",
     "output_type": "stream",
     "text": [
      "              precision    recall  f1-score   support\n",
      "\n",
      "           0       1.00      1.00      1.00         8\n",
      "           1       1.00      1.00      1.00         3\n",
      "\n",
      "   micro avg       1.00      1.00      1.00        11\n",
      "   macro avg       1.00      1.00      1.00        11\n",
      "weighted avg       1.00      1.00      1.00        11\n",
      "\n"
     ]
    }
   ],
   "source": [
    "print(classification_report(train_labels,train_preds))"
   ]
  },
  {
   "cell_type": "code",
   "execution_count": 20,
   "metadata": {},
   "outputs": [
    {
     "name": "stdout",
     "output_type": "stream",
     "text": [
      "[[8 0]\n",
      " [0 3]]\n"
     ]
    }
   ],
   "source": [
    "print(confusion_matrix(train_labels,train_preds))"
   ]
  },
  {
   "cell_type": "code",
   "execution_count": 21,
   "metadata": {},
   "outputs": [
    {
     "name": "stdout",
     "output_type": "stream",
     "text": [
      "1.0\n"
     ]
    }
   ],
   "source": [
    "print(accuracy_score(train_labels,train_preds))"
   ]
  },
  {
   "cell_type": "markdown",
   "metadata": {},
   "source": [
    "### Importance of the features"
   ]
  },
  {
   "cell_type": "code",
   "execution_count": 22,
   "metadata": {},
   "outputs": [
    {
     "name": "stdout",
     "output_type": "stream",
     "text": [
      "Variable: Magnetic core        Coefficient: 4.18\n",
      "Variable: Overall size (nm)    Coefficient: -29.96\n"
     ]
    }
   ],
   "source": [
    "# Get numerical feature importances\n",
    "feature_list = list(test.columns)\n",
    "importances = list(exported_pipeline.coef_.reshape(exported_pipeline.coef_.shape[1]))\n",
    "\n",
    "# List of tuples with variable and importance\n",
    "feature_importances = [(feature, round(importance, 2)) for feature, importance in zip(feature_list, importances)]\n",
    "\n",
    "# Sort the feature importances by most important first\n",
    "feature_importances = sorted(feature_importances, key = lambda x: x[1], reverse = True)\n",
    "\n",
    "# Print out the feature and importances \n",
    "[print('Variable: {:20} Coefficient: {}'.format(*pair)) for pair in feature_importances];"
   ]
  },
  {
   "cell_type": "code",
   "execution_count": 23,
   "metadata": {},
   "outputs": [],
   "source": [
    "feature_name_for_bar = []\n",
    "feature_value_for_bar = []\n",
    "\n",
    "for i in range(len(feature_importances)):\n",
    "    feature_name_for_bar.append(feature_importances[i][0])\n",
    "    feature_value_for_bar.append(abs(feature_importances[i][1]))"
   ]
  },
  {
   "cell_type": "code",
   "execution_count": 24,
   "metadata": {
    "scrolled": false
   },
   "outputs": [
    {
     "data": {
      "image/png": "[encoded data removed]",
      "text/plain": [
       "<Figure size 640x480 with 1 Axes>"
      ]
     },
     "metadata": {},
     "output_type": "display_data"
    }
   ],
   "source": [
    "import matplotlib.pyplot as plt; plt.rcdefaults()\n",
    "import numpy as np\n",
    "import matplotlib.pyplot as plt\n",
    "\n",
    "plt.bar(feature_name_for_bar, feature_value_for_bar, align='center', alpha=0.5)\n",
    "plt.xticks(feature_name_for_bar, feature_name_for_bar)\n",
    "plt.ylabel(\"Absolute value of the feature's coefficient\")\n",
    "plt.title('Importance of features on the 2-feature Dataset')\n",
    "plt.xticks(rotation=45,horizontalalignment='right')\n",
    "\n",
    "plt.savefig('importance_2.png', bbox_inches=\"tight\")\n",
    "\n",
    "\n",
    "plt.show()"
   ]
  },
  {
   "cell_type": "code",
   "execution_count": 25,
   "metadata": {},
   "outputs": [],
   "source": [
    "from sklearn.model_selection import cross_val_score\n",
    "scores = cross_val_score(exported_pipeline, train, train_labels, cv=4)"
   ]
  },
  {
   "cell_type": "code",
   "execution_count": 26,
   "metadata": {},
   "outputs": [
    {
     "name": "stdout",
     "output_type": "stream",
     "text": [
      "Cross Validation Score:  0.9166666666666666 ± 0.14433756729740646\n"
     ]
    }
   ],
   "source": [
    "print('Cross Validation Score: ' ,scores.mean(),'±', scores.std())"
   ]
  },
  {
   "cell_type": "markdown",
   "metadata": {},
   "source": [
    "### Domain of Applicability"
   ]
  },
  {
   "cell_type": "code",
   "execution_count": 27,
   "metadata": {},
   "outputs": [],
   "source": [
    "test_names = [names[i] for i in test.index]"
   ]
  },
  {
   "cell_type": "code",
   "execution_count": 28,
   "metadata": {},
   "outputs": [
    {
     "name": "stdout",
     "output_type": "stream",
     "text": [
      "The Leverage threshold is: 0.55\n"
     ]
    }
   ],
   "source": [
    "leverage_threshold = 3*train.shape[1]/train.shape[0]\n",
    "print('The Leverage threshold is:', round(leverage_threshold, 2))"
   ]
  },
  {
   "cell_type": "code",
   "execution_count": 29,
   "metadata": {},
   "outputs": [],
   "source": [
    "# Labels are the values we want to predict\n",
    "l_train_labels = np.array(train_labels)\n",
    "l_test_labels = np.array(test_labels)\n",
    "# Convert to numpy array\n",
    "l_test = np.array(test)\n",
    "l_train = np.array(train)"
   ]
  },
  {
   "cell_type": "code",
   "execution_count": 30,
   "metadata": {},
   "outputs": [
    {
     "name": "stdout",
     "output_type": "stream",
     "text": [
      "Sample: Fe2O3-PLL                                Leverage Value:   0.2    Reliability: reliable            \n",
      "Sample: PDMAAm-coated-Fe2O3                      Leverage Value:   0.2    Reliability: reliable            \n",
      "Sample: iron oxide-loaded cationic nanovesicle   Leverage Value:  0.47    Reliability: reliable            \n",
      "Sample: CMCS-SPIONs                              Leverage Value:  0.06    Reliability: reliable            \n",
      "Sample: Citrate SPION                            Leverage Value:  0.17    Reliability: reliable            \n"
     ]
    }
   ],
   "source": [
    "from numpy.linalg import matrix_power\n",
    "H=list()\n",
    "reliability=list()\n",
    "for i in range(len(l_test)):\n",
    "    H.append(l_test[i].T@(matrix_power(l_train.T@l_train, -1))@l_test[i])\n",
    "    if H[i]<=leverage_threshold:\n",
    "        reliability.append('reliable')\n",
    "    else:\n",
    "        reliability.append('unreliable')\n",
    "\n",
    "LV = [(sample[:-1], round(l_val, 2),rely) for sample, l_val, rely in zip(test_names, H, reliability)]\n",
    "for i in range(len(l_test)):\n",
    "    [print('Sample: {:40} Leverage Value: {:5}    Reliability: {:20}'.format(LV[i][0],LV[i][1],LV[i][2]))];"
   ]
  }
 ],
 "metadata": {
  "kernelspec": {
   "display_name": "Python 3",
   "language": "python",
   "name": "python3"
  },
  "language_info": {
   "codemirror_mode": {
    "name": "ipython",
    "version": 3
   },
   "file_extension": ".py",
   "mimetype": "text/x-python",
   "name": "python",
   "nbconvert_exporter": "python",
   "pygments_lexer": "ipython3",
   "version": "3.6.7"
  }
 },
 "nbformat": 4,
 "nbformat_minor": 2
}
